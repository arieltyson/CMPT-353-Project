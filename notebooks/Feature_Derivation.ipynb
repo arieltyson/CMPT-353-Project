{
 "cells": [
  {
   "cell_type": "markdown",
   "metadata": {},
   "source": [
    "# Feature Derivation Notebook\n",
    "\n",
    "This notebook focuses solely on deriving new features from the combined app dataset. In this notebook, we will:\n",
    "- Load the combined dataset from `data/combined/combined_apps.csv`.\n",
    "- Convert and extract date components from the `last_updated_date` column.\n",
    "- Derive `app_age_days` (number of days since the app was last updated).\n",
    "- Bin the `installs_clean` variable into discrete categories.\n",
    "- Create a binary flag (`paid_flag`) for Free vs. Paid apps based on the `type` column.\n",
    "\n",
    "These new features will be useful for exploratory analysis and modeling in later stages of the project."
   ]
  },
  {
   "cell_type": "code",
   "execution_count": 6,
   "metadata": {},
   "outputs": [],
   "source": [
    "# Import required libraries\n",
    "import pandas as pd\n",
    "import numpy as np\n",
    "import matplotlib.pyplot as plt\n",
    "import seaborn as sns\n",
    "from datetime import datetime\n",
    "\n",
    "# Set up visualization and display options\n",
    "sns.set(style=\"whitegrid\")\n",
    "%matplotlib inline\n",
    "pd.set_option('display.max_columns', None)"
   ]
  },
  {
   "cell_type": "code",
   "execution_count": 8,
   "metadata": {},
   "outputs": [
    {
     "name": "stdout",
     "output_type": "stream",
     "text": [
      "Dataset shape: (13071, 24)\n"
     ]
    },
    {
     "data": {
      "text/html": [
       "<div>\n",
       "<style scoped>\n",
       "    .dataframe tbody tr th:only-of-type {\n",
       "        vertical-align: middle;\n",
       "    }\n",
       "\n",
       "    .dataframe tbody tr th {\n",
       "        vertical-align: top;\n",
       "    }\n",
       "\n",
       "    .dataframe thead th {\n",
       "        text-align: right;\n",
       "    }\n",
       "</style>\n",
       "<table border=\"1\" class=\"dataframe\">\n",
       "  <thead>\n",
       "    <tr style=\"text-align: right;\">\n",
       "      <th></th>\n",
       "      <th>package_name</th>\n",
       "      <th>category</th>\n",
       "      <th>license</th>\n",
       "      <th>source_code</th>\n",
       "      <th>author</th>\n",
       "      <th>suggested_version</th>\n",
       "      <th>anti_features</th>\n",
       "      <th>added_date</th>\n",
       "      <th>last_updated_date</th>\n",
       "      <th>app_name</th>\n",
       "      <th>summary</th>\n",
       "      <th>description</th>\n",
       "      <th>platform</th>\n",
       "      <th>app_age_days</th>\n",
       "      <th>rating</th>\n",
       "      <th>reviews</th>\n",
       "      <th>size_mb</th>\n",
       "      <th>installs_clean</th>\n",
       "      <th>type</th>\n",
       "      <th>price_clean</th>\n",
       "      <th>content_rating</th>\n",
       "      <th>genres</th>\n",
       "      <th>current_ver</th>\n",
       "      <th>android_ver</th>\n",
       "    </tr>\n",
       "  </thead>\n",
       "  <tbody>\n",
       "    <tr>\n",
       "      <th>0</th>\n",
       "      <td>info.puzz.a10000sentences</td>\n",
       "      <td>Science &amp; Education</td>\n",
       "      <td>Apache-2.0</td>\n",
       "      <td>https://github.com/tkrajina/10000sentences</td>\n",
       "      <td>SCIO</td>\n",
       "      <td>0.3.4</td>\n",
       "      <td>NonFreeNet</td>\n",
       "      <td>2019-09-18T17:00:00</td>\n",
       "      <td>2019-09-18 17:00:00</td>\n",
       "      <td>10,000 sentences</td>\n",
       "      <td>Learn new words in foreign languages</td>\n",
       "      <td>NaN</td>\n",
       "      <td>FDroid</td>\n",
       "      <td>2029</td>\n",
       "      <td>NaN</td>\n",
       "      <td>NaN</td>\n",
       "      <td>NaN</td>\n",
       "      <td>NaN</td>\n",
       "      <td>NaN</td>\n",
       "      <td>NaN</td>\n",
       "      <td>NaN</td>\n",
       "      <td>NaN</td>\n",
       "      <td>NaN</td>\n",
       "      <td>NaN</td>\n",
       "    </tr>\n",
       "    <tr>\n",
       "      <th>1</th>\n",
       "      <td>com.github.ashutoshgngwr.tenbitclockwidget</td>\n",
       "      <td>Theming, Time</td>\n",
       "      <td>GPL-3.0-only</td>\n",
       "      <td>https://github.com/ashutoshgngwr/10-bitClockWi...</td>\n",
       "      <td>NaN</td>\n",
       "      <td>2.2-1</td>\n",
       "      <td>NaN</td>\n",
       "      <td>2020-10-01T17:00:00</td>\n",
       "      <td>2023-10-08 11:25:01</td>\n",
       "      <td>10-bit Clock Widget</td>\n",
       "      <td>A beautiful BCD clock for your home screen</td>\n",
       "      <td>10-bit Clock Widget presents current time on y...</td>\n",
       "      <td>FDroid</td>\n",
       "      <td>548</td>\n",
       "      <td>NaN</td>\n",
       "      <td>NaN</td>\n",
       "      <td>NaN</td>\n",
       "      <td>NaN</td>\n",
       "      <td>NaN</td>\n",
       "      <td>NaN</td>\n",
       "      <td>NaN</td>\n",
       "      <td>NaN</td>\n",
       "      <td>NaN</td>\n",
       "      <td>NaN</td>\n",
       "    </tr>\n",
       "    <tr>\n",
       "      <th>2</th>\n",
       "      <td>dev.lonami.klooni</td>\n",
       "      <td>Games</td>\n",
       "      <td>GPL-3.0-or-later</td>\n",
       "      <td>https://github.com/LonamiWebs/Klooni1010</td>\n",
       "      <td>NaN</td>\n",
       "      <td>0.8.6</td>\n",
       "      <td>NaN</td>\n",
       "      <td>2020-05-08T17:00:00</td>\n",
       "      <td>2020-08-31 17:00:00</td>\n",
       "      <td>1010! Klooni</td>\n",
       "      <td>A libGDX game based on 1010</td>\n",
       "      <td>Introducing Klooni\\n------------------\\n\\n1010...</td>\n",
       "      <td>FDroid</td>\n",
       "      <td>1681</td>\n",
       "      <td>NaN</td>\n",
       "      <td>NaN</td>\n",
       "      <td>NaN</td>\n",
       "      <td>NaN</td>\n",
       "      <td>NaN</td>\n",
       "      <td>NaN</td>\n",
       "      <td>NaN</td>\n",
       "      <td>NaN</td>\n",
       "      <td>NaN</td>\n",
       "      <td>NaN</td>\n",
       "    </tr>\n",
       "    <tr>\n",
       "      <th>3</th>\n",
       "      <td>eu.quelltext.counting</td>\n",
       "      <td>Games, Science &amp; Education</td>\n",
       "      <td>AGPL-3.0-or-later</td>\n",
       "      <td>https://gitlab.com/niccokunzmann/12345</td>\n",
       "      <td>Nicco Kunzmann</td>\n",
       "      <td>1.3</td>\n",
       "      <td>NaN</td>\n",
       "      <td>2022-03-01T16:00:00</td>\n",
       "      <td>2022-03-03 16:00:00</td>\n",
       "      <td>12345 - Learn Counting</td>\n",
       "      <td>Learn counting in different languages with pic...</td>\n",
       "      <td>Count objects on images and choose their numbe...</td>\n",
       "      <td>FDroid</td>\n",
       "      <td>1132</td>\n",
       "      <td>NaN</td>\n",
       "      <td>NaN</td>\n",
       "      <td>NaN</td>\n",
       "      <td>NaN</td>\n",
       "      <td>NaN</td>\n",
       "      <td>NaN</td>\n",
       "      <td>NaN</td>\n",
       "      <td>NaN</td>\n",
       "      <td>NaN</td>\n",
       "      <td>NaN</td>\n",
       "    </tr>\n",
       "    <tr>\n",
       "      <th>4</th>\n",
       "      <td>com.lucasdnd.bitclock16</td>\n",
       "      <td>Time</td>\n",
       "      <td>GPL-2.0-or-later</td>\n",
       "      <td>https://github.com/lucasdnd/16-bit-clock</td>\n",
       "      <td>NaN</td>\n",
       "      <td>1.0</td>\n",
       "      <td>NaN</td>\n",
       "      <td>2015-03-29T17:00:00</td>\n",
       "      <td>2015-03-29 17:00:00</td>\n",
       "      <td>16-bit Clock Widget</td>\n",
       "      <td>Binary clock</td>\n",
       "      <td>NaN</td>\n",
       "      <td>FDroid</td>\n",
       "      <td>3663</td>\n",
       "      <td>NaN</td>\n",
       "      <td>NaN</td>\n",
       "      <td>NaN</td>\n",
       "      <td>NaN</td>\n",
       "      <td>NaN</td>\n",
       "      <td>NaN</td>\n",
       "      <td>NaN</td>\n",
       "      <td>NaN</td>\n",
       "      <td>NaN</td>\n",
       "      <td>NaN</td>\n",
       "    </tr>\n",
       "  </tbody>\n",
       "</table>\n",
       "</div>"
      ],
      "text/plain": [
       "                                 package_name                    category  \\\n",
       "0                   info.puzz.a10000sentences         Science & Education   \n",
       "1  com.github.ashutoshgngwr.tenbitclockwidget               Theming, Time   \n",
       "2                           dev.lonami.klooni                       Games   \n",
       "3                       eu.quelltext.counting  Games, Science & Education   \n",
       "4                     com.lucasdnd.bitclock16                        Time   \n",
       "\n",
       "             license                                        source_code  \\\n",
       "0         Apache-2.0         https://github.com/tkrajina/10000sentences   \n",
       "1       GPL-3.0-only  https://github.com/ashutoshgngwr/10-bitClockWi...   \n",
       "2   GPL-3.0-or-later           https://github.com/LonamiWebs/Klooni1010   \n",
       "3  AGPL-3.0-or-later             https://gitlab.com/niccokunzmann/12345   \n",
       "4   GPL-2.0-or-later           https://github.com/lucasdnd/16-bit-clock   \n",
       "\n",
       "           author suggested_version anti_features           added_date  \\\n",
       "0            SCIO             0.3.4    NonFreeNet  2019-09-18T17:00:00   \n",
       "1             NaN             2.2-1           NaN  2020-10-01T17:00:00   \n",
       "2             NaN             0.8.6           NaN  2020-05-08T17:00:00   \n",
       "3  Nicco Kunzmann               1.3           NaN  2022-03-01T16:00:00   \n",
       "4             NaN               1.0           NaN  2015-03-29T17:00:00   \n",
       "\n",
       "     last_updated_date                app_name  \\\n",
       "0  2019-09-18 17:00:00        10,000 sentences   \n",
       "1  2023-10-08 11:25:01     10-bit Clock Widget   \n",
       "2  2020-08-31 17:00:00            1010! Klooni   \n",
       "3  2022-03-03 16:00:00  12345 - Learn Counting   \n",
       "4  2015-03-29 17:00:00     16-bit Clock Widget   \n",
       "\n",
       "                                             summary  \\\n",
       "0               Learn new words in foreign languages   \n",
       "1         A beautiful BCD clock for your home screen   \n",
       "2                        A libGDX game based on 1010   \n",
       "3  Learn counting in different languages with pic...   \n",
       "4                                       Binary clock   \n",
       "\n",
       "                                         description platform  app_age_days  \\\n",
       "0                                                NaN   FDroid          2029   \n",
       "1  10-bit Clock Widget presents current time on y...   FDroid           548   \n",
       "2  Introducing Klooni\\n------------------\\n\\n1010...   FDroid          1681   \n",
       "3  Count objects on images and choose their numbe...   FDroid          1132   \n",
       "4                                                NaN   FDroid          3663   \n",
       "\n",
       "   rating  reviews  size_mb  installs_clean type  price_clean content_rating  \\\n",
       "0     NaN      NaN      NaN             NaN  NaN          NaN            NaN   \n",
       "1     NaN      NaN      NaN             NaN  NaN          NaN            NaN   \n",
       "2     NaN      NaN      NaN             NaN  NaN          NaN            NaN   \n",
       "3     NaN      NaN      NaN             NaN  NaN          NaN            NaN   \n",
       "4     NaN      NaN      NaN             NaN  NaN          NaN            NaN   \n",
       "\n",
       "  genres current_ver android_ver  \n",
       "0    NaN         NaN         NaN  \n",
       "1    NaN         NaN         NaN  \n",
       "2    NaN         NaN         NaN  \n",
       "3    NaN         NaN         NaN  \n",
       "4    NaN         NaN         NaN  "
      ]
     },
     "execution_count": 8,
     "metadata": {},
     "output_type": "execute_result"
    }
   ],
   "source": [
    "# Load the combined dataset\n",
    "data_path = \"data/combined/combined_apps.csv\"\n",
    "df = pd.read_csv(data_path)\n",
    "\n",
    "print(\"Dataset shape:\", df.shape)\n",
    "df.head()"
   ]
  },
  {
   "cell_type": "markdown",
   "metadata": {},
   "source": [
    "## Deriving New Features\n",
    "\n",
    "We now derive several new features:\n",
    "\n",
    "1. **app_age_days**: The number of days since the app was last updated.\n",
    "2. **installs_bin**: Categories for installs based on predetermined bins.\n",
    "3. **last_updated_year** and **last_updated_month**: Year and month extracted from the `last_updated_date` column.\n",
    "4. **paid_flag**: A binary flag set to 0 for free apps and 1 for paid apps based on the `type` field.\n"
   ]
  },
  {
   "cell_type": "code",
   "execution_count": 11,
   "metadata": {},
   "outputs": [
    {
     "name": "stdout",
     "output_type": "stream",
     "text": [
      "Sample of app_age_days:\n",
      "                 app_name   last_updated_date  app_age_days\n",
      "0        10,000 sentences 2019-09-18 17:00:00        2029.0\n",
      "1     10-bit Clock Widget 2023-10-08 11:25:01         548.0\n",
      "2            1010! Klooni 2020-08-31 17:00:00        1681.0\n",
      "3  12345 - Learn Counting 2022-03-03 16:00:00        1132.0\n",
      "4     16-bit Clock Widget 2015-03-29 17:00:00        3663.0\n"
     ]
    }
   ],
   "source": [
    "# Ensure the 'last_updated_date' column is in datetime format\n",
    "df['last_updated_date'] = pd.to_datetime(df['last_updated_date'], errors='coerce')\n",
    "\n",
    "# Derive app_age_days using today's date\n",
    "today = pd.Timestamp.today()\n",
    "df['app_age_days'] = (today - df['last_updated_date']).dt.days\n",
    "\n",
    "print(\"Sample of app_age_days:\")\n",
    "print(df[['app_name', 'last_updated_date', 'app_age_days']].head())"
   ]
  },
  {
   "cell_type": "code",
   "execution_count": 13,
   "metadata": {},
   "outputs": [
    {
     "name": "stdout",
     "output_type": "stream",
     "text": [
      "Binned installs sample:\n",
      "                 app_name  installs_clean installs_bin\n",
      "0        10,000 sentences             NaN          NaN\n",
      "1     10-bit Clock Widget             NaN          NaN\n",
      "2            1010! Klooni             NaN          NaN\n",
      "3  12345 - Learn Counting             NaN          NaN\n",
      "4     16-bit Clock Widget             NaN          NaN\n"
     ]
    }
   ],
   "source": [
    "# Bin the 'installs_clean' column into categories\n",
    "bins = [0, 10000, 100000, 1000000, np.inf]\n",
    "labels = ['<10K', '10K-100K', '100K-1M', '1M+']\n",
    "df['installs_bin'] = pd.cut(df['installs_clean'], bins=bins, labels=labels)\n",
    "\n",
    "print(\"Binned installs sample:\")\n",
    "print(df[['app_name', 'installs_clean', 'installs_bin']].head())"
   ]
  },
  {
   "cell_type": "code",
   "execution_count": 15,
   "metadata": {},
   "outputs": [
    {
     "name": "stdout",
     "output_type": "stream",
     "text": [
      "Date components sample:\n",
      "                 app_name   last_updated_date  last_updated_year  \\\n",
      "0        10,000 sentences 2019-09-18 17:00:00             2019.0   \n",
      "1     10-bit Clock Widget 2023-10-08 11:25:01             2023.0   \n",
      "2            1010! Klooni 2020-08-31 17:00:00             2020.0   \n",
      "3  12345 - Learn Counting 2022-03-03 16:00:00             2022.0   \n",
      "4     16-bit Clock Widget 2015-03-29 17:00:00             2015.0   \n",
      "\n",
      "   last_updated_month  \n",
      "0                 9.0  \n",
      "1                10.0  \n",
      "2                 8.0  \n",
      "3                 3.0  \n",
      "4                 3.0  \n"
     ]
    }
   ],
   "source": [
    "# Extract last_updated_year and last_updated_month from last_updated_date\n",
    "df['last_updated_year'] = df['last_updated_date'].dt.year\n",
    "df['last_updated_month'] = df['last_updated_date'].dt.month\n",
    "\n",
    "print(\"Date components sample:\")\n",
    "print(df[['app_name', 'last_updated_date', 'last_updated_year', 'last_updated_month']].head())"
   ]
  },
  {
   "cell_type": "code",
   "execution_count": 20,
   "metadata": {},
   "outputs": [
    {
     "name": "stdout",
     "output_type": "stream",
     "text": [
      "Paid flag sample:\n",
      "                 app_name type  paid_flag\n",
      "0        10,000 sentences  NaN          1\n",
      "1     10-bit Clock Widget  NaN          1\n",
      "2            1010! Klooni  NaN          1\n",
      "3  12345 - Learn Counting  NaN          1\n",
      "4     16-bit Clock Widget  NaN          1\n"
     ]
    }
   ],
   "source": [
    "# Create a binary flag for Free vs. Paid apps based on the 'type' column\n",
    "df['paid_flag'] = df['type'].apply(lambda x: 0 if 'free' in str(x).lower() else 1)\n",
    "\n",
    "print(\"Paid flag sample:\")\n",
    "print(df[['app_name', 'type', 'paid_flag']].head())"
   ]
  },
  {
   "cell_type": "markdown",
   "metadata": {},
   "source": [
    "## Visualizations for Derived Features\n",
    "\n",
    "We create a few plots to inspect our new features."
   ]
  },
  {
   "cell_type": "code",
   "execution_count": 23,
   "metadata": {},
   "outputs": [
    {
     "data": {
      "image/png": "[encoded data removed]",
      "text/plain": [
       "<Figure size 1000x600 with 1 Axes>"
      ]
     },
     "metadata": {},
     "output_type": "display_data"
    }
   ],
   "source": [
    "# Boxplot comparing ratings for Free vs. Paid apps, differentiated by platform\n",
    "plt.figure(figsize=(10,6))\n",
    "sns.boxplot(x='paid_flag', y='rating', hue='platform', data=df)\n",
    "plt.title('Rating Distribution: Free (0) vs. Paid (1) by Platform')\n",
    "plt.xlabel('Paid Flag (0=Free, 1=Paid)')\n",
    "plt.ylabel('Rating')\n",
    "plt.show()"
   ]
  },
  {
   "cell_type": "code",
   "execution_count": 25,
   "metadata": {},
   "outputs": [
    {
     "data": {
      "image/png": "[encoded data removed]",
      "text/plain": [
       "<Figure size 1200x600 with 1 Axes>"
      ]
     },
     "metadata": {},
     "output_type": "display_data"
    }
   ],
   "source": [
    "# Countplot for last_updated_year by platform\n",
    "plt.figure(figsize=(12,6))\n",
    "sns.countplot(x='last_updated_year', hue='platform', data=df)\n",
    "plt.title('Distribution of Last Updated Year by Platform')\n",
    "plt.xlabel('Year')\n",
    "plt.ylabel('Number of Apps')\n",
    "plt.show()"
   ]
  },
  {
   "cell_type": "markdown",
   "metadata": {},
   "source": [
    "## Save the Enhanced Dataset\n",
    "\n",
    "After feature derivation, we save the enhanced dataset for further analysis."
   ]
  },
  {
   "cell_type": "code",
   "execution_count": 28,
   "metadata": {},
   "outputs": [
    {
     "name": "stdout",
     "output_type": "stream",
     "text": [
      "Enhanced dataset saved to data/combined/combined_apps_enhanced.csv\n"
     ]
    }
   ],
   "source": [
    "output_path = 'data/combined/combined_apps_enhanced.csv'\n",
    "df.to_csv(output_path, index=False)\n",
    "print(f'Enhanced dataset saved to {output_path}')"
   ]
  },
  {
   "cell_type": "markdown",
   "metadata": {},
   "source": [
    "## Conclusion\n",
    "\n",
    "In this notebook, we have derived several new features from our combined dataset:\n",
    "- **app_age_days** gives us a measure of how recently apps were updated.\n",
    "- **installs_bin** categorizes apps by their install numbers for easier segmentation.\n",
    "- **last_updated_year** and **last_updated_month** allow time-based analyses.\n",
    "- **paid_flag** distinguishes free and paid apps.\n",
    "\n",
    "These enhancements provide a richer dataset for our subsequent exploratory analysis, modeling, and visualization tasks."
   ]
  },
  {
   "cell_type": "code",
   "execution_count": null,
   "metadata": {},
   "outputs": [],
   "source": []
  }
 ],
 "metadata": {
  "kernelspec": {
   "display_name": "Python [conda env:base] *",
   "language": "python",
   "name": "conda-base-py"
  },
  "language_info": {
   "codemirror_mode": {
    "name": "ipython",
    "version": 3
   },
   "file_extension": ".py",
   "mimetype": "text/x-python",
   "name": "python",
   "nbconvert_exporter": "python",
   "pygments_lexer": "ipython3",
   "version": "3.12.2"
  }
 },
 "nbformat": 4,
 "nbformat_minor": 4
}
