{
 "cells": [
  {
   "cell_type": "code",
   "execution_count": 50,
   "id": "cc8b64f4-9907-4e5c-911d-2d6149677e7b",
   "metadata": {},
   "outputs": [],
   "source": [
    "import pandas as pd\n",
    "import numpy as np\n",
    "import matplotlib.pyplot as plt\n",
    "import seaborn as sns\n",
    "\n",
    "from sklearn.model_selection import train_test_split\n",
    "from sklearn.pipeline import Pipeline\n",
    "from sklearn.compose import ColumnTransformer\n",
    "from sklearn.preprocessing import StandardScaler, OneHotEncoder\n",
    "from sklearn.linear_model import LogisticRegression, LinearRegression\n",
    "from sklearn.ensemble import RandomForestRegressor, GradientBoostingRegressor, RandomForestClassifier\n",
    "from sklearn.metrics import classification_report, confusion_matrix\n",
    "from sklearn.metrics import classification_report, confusion_matrix, mean_squared_error, r2_score, root_mean_squared_error\n",
    "from sklearn.impute import SimpleImputer\n",
    "\n"
   ]
  },
  {
   "cell_type": "markdown",
   "id": "064205c9-ec86-499d-9413-ed7114f42a1b",
   "metadata": {},
   "source": [
    "Load the Dataset"
   ]
  },
  {
   "cell_type": "code",
   "execution_count": 51,
   "id": "4f42e1f5-9cc4-4e60-bbaf-dc7eaf210c68",
   "metadata": {},
   "outputs": [
    {
     "data": {
      "text/html": [
       "<div>\n",
       "<style scoped>\n",
       "    .dataframe tbody tr th:only-of-type {\n",
       "        vertical-align: middle;\n",
       "    }\n",
       "\n",
       "    .dataframe tbody tr th {\n",
       "        vertical-align: top;\n",
       "    }\n",
       "\n",
       "    .dataframe thead th {\n",
       "        text-align: right;\n",
       "    }\n",
       "</style>\n",
       "<table border=\"1\" class=\"dataframe\">\n",
       "  <thead>\n",
       "    <tr style=\"text-align: right;\">\n",
       "      <th></th>\n",
       "      <th>package_name</th>\n",
       "      <th>category</th>\n",
       "      <th>license</th>\n",
       "      <th>source_code</th>\n",
       "      <th>author</th>\n",
       "      <th>suggested_version</th>\n",
       "      <th>anti_features</th>\n",
       "      <th>anti_feature_score</th>\n",
       "      <th>added_date</th>\n",
       "      <th>last_updated_date</th>\n",
       "      <th>...</th>\n",
       "      <th>rating</th>\n",
       "      <th>reviews</th>\n",
       "      <th>size_mb</th>\n",
       "      <th>installs_clean</th>\n",
       "      <th>type</th>\n",
       "      <th>price_clean</th>\n",
       "      <th>content_rating</th>\n",
       "      <th>genres</th>\n",
       "      <th>current_ver</th>\n",
       "      <th>android_ver</th>\n",
       "    </tr>\n",
       "  </thead>\n",
       "  <tbody>\n",
       "    <tr>\n",
       "      <th>0</th>\n",
       "      <td>info.puzz.a10000sentences</td>\n",
       "      <td>Science &amp; Education</td>\n",
       "      <td>Apache-2.0</td>\n",
       "      <td>https://github.com/tkrajina/10000sentences</td>\n",
       "      <td>SCIO</td>\n",
       "      <td>0.3.4</td>\n",
       "      <td>NonFreeNet</td>\n",
       "      <td>1</td>\n",
       "      <td>2019-09-18T17:00:00</td>\n",
       "      <td>2019-09-18 17:00:00</td>\n",
       "      <td>...</td>\n",
       "      <td>NaN</td>\n",
       "      <td>NaN</td>\n",
       "      <td>NaN</td>\n",
       "      <td>NaN</td>\n",
       "      <td>NaN</td>\n",
       "      <td>NaN</td>\n",
       "      <td>NaN</td>\n",
       "      <td>NaN</td>\n",
       "      <td>NaN</td>\n",
       "      <td>NaN</td>\n",
       "    </tr>\n",
       "    <tr>\n",
       "      <th>1</th>\n",
       "      <td>com.github.ashutoshgngwr.tenbitclockwidget</td>\n",
       "      <td>Theming, Time</td>\n",
       "      <td>GPL-3.0-only</td>\n",
       "      <td>https://github.com/ashutoshgngwr/10-bitClockWi...</td>\n",
       "      <td>NaN</td>\n",
       "      <td>2.2-1</td>\n",
       "      <td>NaN</td>\n",
       "      <td>0</td>\n",
       "      <td>2020-10-01T17:00:00</td>\n",
       "      <td>2023-10-08 11:25:01</td>\n",
       "      <td>...</td>\n",
       "      <td>NaN</td>\n",
       "      <td>NaN</td>\n",
       "      <td>NaN</td>\n",
       "      <td>NaN</td>\n",
       "      <td>NaN</td>\n",
       "      <td>NaN</td>\n",
       "      <td>NaN</td>\n",
       "      <td>NaN</td>\n",
       "      <td>NaN</td>\n",
       "      <td>NaN</td>\n",
       "    </tr>\n",
       "    <tr>\n",
       "      <th>2</th>\n",
       "      <td>dev.lonami.klooni</td>\n",
       "      <td>Games</td>\n",
       "      <td>GPL-3.0-or-later</td>\n",
       "      <td>https://github.com/LonamiWebs/Klooni1010</td>\n",
       "      <td>NaN</td>\n",
       "      <td>0.8.6</td>\n",
       "      <td>NaN</td>\n",
       "      <td>0</td>\n",
       "      <td>2020-05-08T17:00:00</td>\n",
       "      <td>2020-08-31 17:00:00</td>\n",
       "      <td>...</td>\n",
       "      <td>NaN</td>\n",
       "      <td>NaN</td>\n",
       "      <td>NaN</td>\n",
       "      <td>NaN</td>\n",
       "      <td>NaN</td>\n",
       "      <td>NaN</td>\n",
       "      <td>NaN</td>\n",
       "      <td>NaN</td>\n",
       "      <td>NaN</td>\n",
       "      <td>NaN</td>\n",
       "    </tr>\n",
       "    <tr>\n",
       "      <th>3</th>\n",
       "      <td>eu.quelltext.counting</td>\n",
       "      <td>Games, Science &amp; Education</td>\n",
       "      <td>AGPL-3.0-or-later</td>\n",
       "      <td>https://gitlab.com/niccokunzmann/12345</td>\n",
       "      <td>Nicco Kunzmann</td>\n",
       "      <td>1.3</td>\n",
       "      <td>NaN</td>\n",
       "      <td>0</td>\n",
       "      <td>2022-03-01T16:00:00</td>\n",
       "      <td>2022-03-03 16:00:00</td>\n",
       "      <td>...</td>\n",
       "      <td>NaN</td>\n",
       "      <td>NaN</td>\n",
       "      <td>NaN</td>\n",
       "      <td>NaN</td>\n",
       "      <td>NaN</td>\n",
       "      <td>NaN</td>\n",
       "      <td>NaN</td>\n",
       "      <td>NaN</td>\n",
       "      <td>NaN</td>\n",
       "      <td>NaN</td>\n",
       "    </tr>\n",
       "    <tr>\n",
       "      <th>4</th>\n",
       "      <td>com.lucasdnd.bitclock16</td>\n",
       "      <td>Time</td>\n",
       "      <td>GPL-2.0-or-later</td>\n",
       "      <td>https://github.com/lucasdnd/16-bit-clock</td>\n",
       "      <td>NaN</td>\n",
       "      <td>1.0</td>\n",
       "      <td>NaN</td>\n",
       "      <td>0</td>\n",
       "      <td>2015-03-29T17:00:00</td>\n",
       "      <td>2015-03-29 17:00:00</td>\n",
       "      <td>...</td>\n",
       "      <td>NaN</td>\n",
       "      <td>NaN</td>\n",
       "      <td>NaN</td>\n",
       "      <td>NaN</td>\n",
       "      <td>NaN</td>\n",
       "      <td>NaN</td>\n",
       "      <td>NaN</td>\n",
       "      <td>NaN</td>\n",
       "      <td>NaN</td>\n",
       "      <td>NaN</td>\n",
       "    </tr>\n",
       "  </tbody>\n",
       "</table>\n",
       "<p>5 rows × 27 columns</p>\n",
       "</div>"
      ],
      "text/plain": [
       "                                 package_name                    category  \\\n",
       "0                   info.puzz.a10000sentences         Science & Education   \n",
       "1  com.github.ashutoshgngwr.tenbitclockwidget               Theming, Time   \n",
       "2                           dev.lonami.klooni                       Games   \n",
       "3                       eu.quelltext.counting  Games, Science & Education   \n",
       "4                     com.lucasdnd.bitclock16                        Time   \n",
       "\n",
       "             license                                        source_code  \\\n",
       "0         Apache-2.0         https://github.com/tkrajina/10000sentences   \n",
       "1       GPL-3.0-only  https://github.com/ashutoshgngwr/10-bitClockWi...   \n",
       "2   GPL-3.0-or-later           https://github.com/LonamiWebs/Klooni1010   \n",
       "3  AGPL-3.0-or-later             https://gitlab.com/niccokunzmann/12345   \n",
       "4   GPL-2.0-or-later           https://github.com/lucasdnd/16-bit-clock   \n",
       "\n",
       "           author suggested_version anti_features  anti_feature_score  \\\n",
       "0            SCIO             0.3.4    NonFreeNet                   1   \n",
       "1             NaN             2.2-1           NaN                   0   \n",
       "2             NaN             0.8.6           NaN                   0   \n",
       "3  Nicco Kunzmann               1.3           NaN                   0   \n",
       "4             NaN               1.0           NaN                   0   \n",
       "\n",
       "            added_date    last_updated_date  ...  rating reviews size_mb  \\\n",
       "0  2019-09-18T17:00:00  2019-09-18 17:00:00  ...     NaN     NaN     NaN   \n",
       "1  2020-10-01T17:00:00  2023-10-08 11:25:01  ...     NaN     NaN     NaN   \n",
       "2  2020-05-08T17:00:00  2020-08-31 17:00:00  ...     NaN     NaN     NaN   \n",
       "3  2022-03-01T16:00:00  2022-03-03 16:00:00  ...     NaN     NaN     NaN   \n",
       "4  2015-03-29T17:00:00  2015-03-29 17:00:00  ...     NaN     NaN     NaN   \n",
       "\n",
       "  installs_clean  type price_clean  content_rating  genres  current_ver  \\\n",
       "0            NaN   NaN         NaN             NaN     NaN          NaN   \n",
       "1            NaN   NaN         NaN             NaN     NaN          NaN   \n",
       "2            NaN   NaN         NaN             NaN     NaN          NaN   \n",
       "3            NaN   NaN         NaN             NaN     NaN          NaN   \n",
       "4            NaN   NaN         NaN             NaN     NaN          NaN   \n",
       "\n",
       "   android_ver  \n",
       "0          NaN  \n",
       "1          NaN  \n",
       "2          NaN  \n",
       "3          NaN  \n",
       "4          NaN  \n",
       "\n",
       "[5 rows x 27 columns]"
      ]
     },
     "execution_count": 51,
     "metadata": {},
     "output_type": "execute_result"
    }
   ],
   "source": [
    "apps_data = pd.read_csv(\"../data/combined/combined_apps.csv\")\n",
    "apps_data.head()"
   ]
  },
  {
   "cell_type": "code",
   "execution_count": 52,
   "id": "4e844f3e",
   "metadata": {},
   "outputs": [
    {
     "name": "stdout",
     "output_type": "stream",
     "text": [
      "Paid flag sample:\n",
      "                 app_name type  paid_flag\n",
      "0        10,000 sentences  NaN          1\n",
      "1     10-bit Clock Widget  NaN          1\n",
      "2            1010! Klooni  NaN          1\n",
      "3  12345 - Learn Counting  NaN          1\n",
      "4     16-bit Clock Widget  NaN          1\n"
     ]
    }
   ],
   "source": [
    "# Create a binary flag for Free vs. Paid apps based on the 'type' column\n",
    "apps_data['paid_flag'] = apps_data['type'].apply(lambda x: 0 if 'free' in str(x).lower() else 1)\n",
    "\n",
    "print(\"Paid flag sample:\")\n",
    "print(apps_data[['app_name', 'type', 'paid_flag']].head())"
   ]
  },
  {
   "cell_type": "code",
   "execution_count": 53,
   "id": "c6bd3f3a",
   "metadata": {},
   "outputs": [
    {
     "data": {
      "text/plain": [
       "Index(['package_name', 'category', 'license', 'source_code', 'author',\n",
       "       'suggested_version', 'anti_features', 'anti_feature_score',\n",
       "       'added_date', 'last_updated_date', 'update_freq_days', 'app_name',\n",
       "       'summary', 'description', 'price_tier', 'platform', 'app_age_days',\n",
       "       'rating', 'reviews', 'size_mb', 'installs_clean', 'type', 'price_clean',\n",
       "       'content_rating', 'genres', 'current_ver', 'android_ver', 'paid_flag'],\n",
       "      dtype='object')"
      ]
     },
     "execution_count": 53,
     "metadata": {},
     "output_type": "execute_result"
    }
   ],
   "source": [
    "apps_data.columns\n"
   ]
  },
  {
   "cell_type": "markdown",
   "id": "bab056c7-03f6-4aa6-877f-05bb2e278934",
   "metadata": {},
   "source": [
    "Define Features + Target (Classification)"
   ]
  },
  {
   "cell_type": "code",
   "execution_count": 54,
   "id": "055e1c18-aa04-498f-ad1c-513137eaa5ef",
   "metadata": {},
   "outputs": [],
   "source": [
    "features = [\"size_mb\", \"update_freq_days\", \"anti_feature_score\", \"category\", \"paid_flag\", \"reviews\", \"installs_clean\"] #optionally add a price feature for better predictions\n",
    "target = \"platform\"  # 0 = F-Droid, 1 = Google Play\n",
    "\n",
    "X = apps_data[features]\n",
    "y = apps_data[target]\n",
    "\n",
    "X_train, X_test, y_train, y_test = train_test_split(X, y, test_size=0.2, random_state=42)"
   ]
  },
  {
   "cell_type": "markdown",
   "id": "ece6f8d3-f465-4639-b3a4-9614f1d08ad9",
   "metadata": {},
   "source": [
    "Create Preprocessor"
   ]
  },
  {
   "cell_type": "code",
   "execution_count": 55,
   "id": "b3095080-3dbc-49ee-8950-9b439c7d2aac",
   "metadata": {},
   "outputs": [],
   "source": [
    "numeric_features = [\"size_mb\", \"update_freq_days\", \"anti_feature_score\", \"paid_flag\", \"reviews\", \"installs_clean\"]\n",
    "categorical_features = [\"category\"]\n",
    "\n",
    "# Numeric pipeline with imputer + scaler\n",
    "numeric_transformer = Pipeline(steps=[\n",
    "    ('imputer', SimpleImputer(strategy='mean')),\n",
    "    ('scaler', StandardScaler())\n",
    "])\n",
    "\n",
    "# Categorical pipeline with imputer + one-hot encoder\n",
    "categorical_transformer = Pipeline(steps=[\n",
    "    ('imputer', SimpleImputer(strategy='constant', fill_value='missing')),\n",
    "    ('encoder', OneHotEncoder(handle_unknown='ignore'))\n",
    "])\n",
    "\n",
    "# Combine into one preprocessor\n",
    "preprocessor = ColumnTransformer(transformers=[\n",
    "    ('num', numeric_transformer, numeric_features),\n",
    "    ('cat', categorical_transformer, categorical_features)\n",
    "])"
   ]
  },
  {
   "cell_type": "markdown",
   "id": "5d2ff0bb-fe06-4894-8423-a3f8e6b2e7cb",
   "metadata": {},
   "source": [
    "Classification Pipeline"
   ]
  },
  {
   "cell_type": "code",
   "execution_count": 56,
   "id": "958407cf-6376-4800-8094-649e02cab7fc",
   "metadata": {},
   "outputs": [],
   "source": [
    "numeric_imputer = SimpleImputer(strategy=\"mean\")\n",
    "categorical_imputer = SimpleImputer(strategy=\"constant\", fill_value=\"missing\")\n",
    "\n",
    "# Update transformers to include imputation\n",
    "numeric_transformer = Pipeline(steps=[\n",
    "    (\"imputer\", numeric_imputer),\n",
    "    (\"scaler\", StandardScaler())\n",
    "])\n",
    "\n",
    "categorical_transformer = Pipeline(steps=[\n",
    "    (\"imputer\", categorical_imputer),\n",
    "    (\"encoder\", OneHotEncoder(handle_unknown=\"ignore\"))\n",
    "])\n",
    "\n",
    "preprocessor = ColumnTransformer(\n",
    "    transformers=[\n",
    "        (\"num\", numeric_transformer, numeric_features),\n",
    "        (\"cat\", categorical_transformer, categorical_features)\n",
    "    ]\n",
    ")\n"
   ]
  },
  {
   "cell_type": "markdown",
   "id": "2eae7d64-70ad-4def-96f6-943cd140a9b3",
   "metadata": {},
   "source": [
    "Regression Pipeline (for predicting ratings)"
   ]
  },
  {
   "cell_type": "code",
   "execution_count": 57,
   "id": "97fb4dae-0a74-4ead-a51f-c0f5d9edb870",
   "metadata": {},
   "outputs": [
    {
     "name": "stdout",
     "output_type": "stream",
     "text": [
      "RMSE: 0.46\n",
      "R²: 0.14\n"
     ]
    }
   ],
   "source": [
    "target = \"rating\"\n",
    "apps_data = apps_data.dropna(subset=[\"rating\"])\n",
    "X = apps_data[features]\n",
    "y = apps_data[target]\n",
    "\n",
    "X_train, X_test, y_train, y_test = train_test_split(X, y, test_size=0.2, random_state=42)\n",
    "\n",
    "reg_pipeline = Pipeline(steps=[\n",
    "    (\"preprocessor\", preprocessor),\n",
    "    (\"regressor\", RandomForestRegressor(n_estimators=100, random_state=42))\n",
    "])\n",
    "\n",
    "reg_pipeline.fit(X_train, y_train)\n",
    "y_pred = reg_pipeline.predict(X_test)\n",
    "\n",
    "rmse = root_mean_squared_error(y_test, y_pred)\n",
    "r2 = r2_score(y_test, y_pred)\n",
    "\n",
    "print(f\"RMSE: {rmse:.2f}\")\n",
    "print(f\"R²: {r2:.2f}\")"
   ]
  },
  {
   "cell_type": "markdown",
   "id": "128efcba",
   "metadata": {},
   "source": [
    "Feature Importance visualization"
   ]
  },
  {
   "cell_type": "code",
   "execution_count": 58,
   "id": "f42ea7fa",
   "metadata": {},
   "outputs": [
    {
     "data": {
      "image/png": "[encoded data removed]",
      "text/plain": [
       "<Figure size 1000x600 with 1 Axes>"
      ]
     },
     "metadata": {},
     "output_type": "display_data"
    }
   ],
   "source": [
    "import pandas as pd\n",
    "import matplotlib.pyplot as plt\n",
    "import seaborn as sns\n",
    "\n",
    "# Get feature importances\n",
    "importances = reg_pipeline.named_steps[\"regressor\"].feature_importances_\n",
    "feature_names = preprocessor.get_feature_names_out()\n",
    "\n",
    "# Combine and sort\n",
    "feat_df = pd.DataFrame({\"feature\": feature_names, \"importance\": importances})\n",
    "feat_df = feat_df.sort_values(\"importance\", ascending=False)\n",
    "\n",
    "# Plot top 10\n",
    "plt.figure(figsize=(10, 6))\n",
    "sns.barplot(x=\"importance\", y=\"feature\", data=feat_df.head(10))\n",
    "plt.title(\"Top 10 Feature Importances\")\n",
    "plt.tight_layout()\n",
    "plt.show()\n"
   ]
  },
  {
   "cell_type": "markdown",
   "id": "5399eb7f",
   "metadata": {},
   "source": [
    "Classification Pipeline (for predicting platform)"
   ]
  },
  {
   "cell_type": "code",
   "execution_count": null,
   "id": "9609175a",
   "metadata": {},
   "outputs": [
    {
     "name": "stdout",
     "output_type": "stream",
     "text": [
      "Classification Report:\n",
      "               precision    recall  f1-score   support\n",
      "\n",
      " Google Play       1.00      1.00      1.00      1874\n",
      "\n",
      "    accuracy                           1.00      1874\n",
      "   macro avg       1.00      1.00      1.00      1874\n",
      "weighted avg       1.00      1.00      1.00      1874\n",
      "\n"
     ]
    },
    {
     "name": "stderr",
     "output_type": "stream",
     "text": [
      "/opt/anaconda3/lib/python3.12/site-packages/sklearn/metrics/_classification.py:409: UserWarning: A single label was found in 'y_true' and 'y_pred'. For the confusion matrix to have the correct shape, use the 'labels' parameter to pass all known labels.\n",
      "  warnings.warn(\n"
     ]
    },
    {
     "data": {
      "image/png": "[encoded data removed]",
      "text/plain": [
       "<Figure size 640x480 with 2 Axes>"
      ]
     },
     "metadata": {},
     "output_type": "display_data"
    }
   ],
   "source": [
    "target = \"platform\"\n",
    "apps_data = apps_data.dropna(subset=[target])\n",
    "\n",
    "y = apps_data[target].astype(str)\n",
    "X = apps_data[features]\n",
    "\n",
    "X_train, X_test, y_train, y_test = train_test_split(\n",
    "    X, y, test_size=0.2, random_state=42, stratify=y\n",
    ")\n",
    "\n",
    "clf_pipeline = Pipeline(steps=[\n",
    "    (\"preprocessor\", preprocessor),\n",
    "    (\"classifier\", RandomForestClassifier(n_estimators=100, random_state=42))\n",
    "])\n",
    "\n",
    "clf_pipeline.fit(X_train, y_train)\n",
    "print(classification_report(y_test, clf_pipeline.predict(X_test)))\n",
    "\n",
    "y_pred = clf_pipeline.predict(X_test)\n",
    "\n",
    "print(\"Classification Report:\\n\", classification_report(y_test, y_pred))\n",
    "\n",
    "sns.heatmap(confusion_matrix(y_test, y_pred), annot=True, fmt=\"d\", cmap=\"Blues\")\n",
    "plt.xlabel(\"Predicted\")\n",
    "plt.ylabel(\"Actual\")\n",
    "plt.title(\"Confusion Matrix - Platform Prediction\")\n",
    "plt.show()\n",
    "\n",
    "\n"
   ]
  }
 ],
 "metadata": {
  "kernelspec": {
   "display_name": "base",
   "language": "python",
   "name": "python3"
  },
  "language_info": {
   "codemirror_mode": {
    "name": "ipython",
    "version": 3
   },
   "file_extension": ".py",
   "mimetype": "text/x-python",
   "name": "python",
   "nbconvert_exporter": "python",
   "pygments_lexer": "ipython3",
   "version": "3.12.7"
  }
 },
 "nbformat": 4,
 "nbformat_minor": 5
}
